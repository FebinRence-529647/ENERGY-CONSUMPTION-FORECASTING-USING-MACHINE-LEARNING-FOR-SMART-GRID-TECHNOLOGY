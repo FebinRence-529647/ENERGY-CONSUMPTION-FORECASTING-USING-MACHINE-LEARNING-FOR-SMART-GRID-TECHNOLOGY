{
 "cells": [
  {
   "cell_type": "code",
   "execution_count": null,
   "metadata": {},
   "outputs": [],
   "source": [
    "import pandas as pd\n",
    "import matplotlib.pyplot as plt\n",
    "import seaborn as sns\n",
    "# Load the dataset into a DataFrame\n",
    "df = pd.read_csv('/content/historic_demand_2009_2024.csv')\n",
    "\n",
    "# Display the columns and the first few rows of the DataFrame\n",
    "df.head()"
   ]
  },
  {
   "cell_type": "code",
   "execution_count": null,
   "metadata": {},
   "outputs": [],
   "source": [
    "df.info()"
   ]
  },
  {
   "cell_type": "code",
   "execution_count": null,
   "metadata": {},
   "outputs": [],
   "source": [
    "df.describe()"
   ]
  },
  {
   "cell_type": "code",
   "execution_count": null,
   "metadata": {},
   "outputs": [],
   "source": [
    "# Display the shape of the data (rows, columns)\n",
    "print(\"Shape:\", df.shape)"
   ]
  },
  {
   "cell_type": "code",
   "execution_count": null,
   "metadata": {},
   "outputs": [],
   "source": [
    "# Display the total number of elements in the data\n",
    "print(\"Size:\", df.size)"
   ]
  },
  {
   "cell_type": "code",
   "execution_count": null,
   "metadata": {},
   "outputs": [],
   "source": [
    "# Identifying the types of attributes in the dataset\n",
    "attribute_types = df.dtypes\n",
    "attribute_types"
   ]
  },
  {
   "cell_type": "code",
   "execution_count": null,
   "metadata": {},
   "outputs": [],
   "source": [
    "# Identify numerical attributes\n",
    "numerical_attributes = df.select_dtypes(include=['int64', 'float64']).columns\n",
    "print(\"Numerical Attributes:\\n\", numerical_attributes)\n",
    "\n",
    "# Identify categorical attributes\n",
    "categorical_attributes = df.select_dtypes(include=['object']).columns\n",
    "print(\"Categorical Attributes:\\n\", categorical_attributes)\n",
    "\n",
    "# Identify time attributes by checking for datetime data type after conversion\n",
    "time_attributes = df.select_dtypes(include=['datetime']).columns\n",
    "print(\"Time Attributes:\\n\", time_attributes)"
   ]
  },
  {
   "cell_type": "code",
   "execution_count": null,
   "metadata": {},
   "outputs": [],
   "source": [
    "# Check for null values in each column\n",
    "null_values = df.isnull().sum()\n",
    "print(\"Null Values in Each Column:\\n\", null_values)\n",
    "\n",
    "# Fill null values with 0\n",
    "df_filled = df.fillna(0)"
   ]
  },
  {
   "cell_type": "code",
   "execution_count": null,
   "metadata": {},
   "outputs": [],
   "source": [
    "# Verify by checking for null values again\n",
    "null_values_after_filling = df_filled.isnull().sum()\n",
    "print(\"Null Values After Filling:\\n\", null_values_after_filling)"
   ]
  },
  {
   "cell_type": "code",
   "execution_count": null,
   "metadata": {},
   "outputs": [],
   "source": [
    "# Identify any columns starting with 'Unnamed'\n",
    "unnamed_cols = df_filled.columns[df_filled.columns.str.contains('^Unnamed')]\n",
    "\n",
    "# Drop rows where any unnamed columns have data\n",
    "df_dropped = df_filled[df_filled[unnamed_cols].isna().all(axis=1)]\n",
    "\n",
    " # Drop the unnamed columns\n",
    "df_dropped = df_filled.drop(columns=unnamed_cols)\n",
    "\n",
    "# Display the first few rows to verify the column has been dropped\n",
    "df_dropped.head()"
   ]
  },
  {
   "cell_type": "code",
   "execution_count": null,
   "metadata": {},
   "outputs": [],
   "source": [
    "# Check how many rows have a settlement period greater than 48\n",
    "rows_greater_than_48 = df_dropped[df_dropped['settlement_period'] > 48].shape[0]\n",
    "print(\"Number of rows with settlement period greater than 48:\", rows_greater_than_48)\n",
    "\n",
    "# Drop rows where the settlement period is greater than 48\n",
    "df_cleaned = df_dropped[df_dropped['settlement_period'] <= 48]"
   ]
  },
  {
   "cell_type": "code",
   "execution_count": null,
   "metadata": {},
   "outputs": [],
   "source": [
    "# Verify by checking again the number of rows with settlement period greater than 48\n",
    "rows_greater_than_48_after = df_cleaned[df_cleaned['settlement_period'] > 48].shape[0]\n",
    "print(\"Number of rows with settlement period greater than 48 after dropping:\", rows_greater_than_48_after)"
   ]
  },
  {
   "cell_type": "code",
   "execution_count": null,
   "metadata": {},
   "outputs": [],
   "source": [
    "import pandas as pd\n",
    "import matplotlib.pyplot as plt\n",
    "import seaborn as sns\n",
    "\n",
    "# Function to plot all numerical attributes\n",
    "def plot_numerical_attributes(df_cleaned):\n",
    "    numerical_cols = df_cleaned.select_dtypes(include=['float64', 'int64']).columns\n",
    "    for col in numerical_cols:\n",
    "        plt.figure(figsize=(10, 5))\n",
    "        sns.histplot(df_cleaned[col], kde=True, bins=30)\n",
    "        plt.title(f'Distribution of {col}')\n",
    "        plt.xlabel(col)\n",
    "        plt.ylabel('Frequency')\n",
    "        plt.show()\n",
    "\n",
    "# Function to create pairplots for combinations of numerical attributes\n",
    "def plot_combinations(df_cleaned):\n",
    "    numerical_cols = df_cleaned.select_dtypes(include=['float64', 'int64']).columns\n",
    "    if len(numerical_cols) > 1:\n",
    "        sns.pairplot(df_cleaned[numerical_cols])\n",
    "        plt.show()"
   ]
  },
  {
   "cell_type": "code",
   "execution_count": null,
   "metadata": {},
   "outputs": [],
   "source": [
    "# Call the functions\n",
    "plot_numerical_attributes(df_cleaned)\n",
    "# Plot individual numerical attributes\n",
    "plot_combinations(df_cleaned)\n",
    "# Plot combinations of numerical attributes"
   ]
  },
  {
   "cell_type": "code",
   "execution_count": null,
   "metadata": {},
   "outputs": [],
   "source": [
    "# Convert settlement_date to datetime format\n",
    "df_cleaned['settlement_date'] = pd.to_datetime(\n",
    "    df_cleaned['settlement_date'], format='%d-%m-%Y', errors='coerce')"
   ]
  },
  {
   "cell_type": "code",
   "execution_count": null,
   "metadata": {},
   "outputs": [],
   "source": [
    "plt.figure(figsize=(12, 6))\n",
    "sns.lineplot(data=df_cleaned, x='settlement_date', y='nd')\n",
    "plt.title('nd over Time')\n",
    "plt.xlabel('Settlement Date')\n",
    "plt.ylabel('nd')\n",
    "plt.xticks(rotation=45)\n",
    "plt.show()"
   ]
  },
  {
   "cell_type": "code",
   "execution_count": null,
   "metadata": {},
   "outputs": [],
   "source": [
    "plt.figure(figsize=(12, 6))\n",
    "sns.lineplot(data=df_cleaned, x='settlement_date', y='tsd')\n",
    "plt.title('tsd over Time')\n",
    "plt.xlabel('Settlement Date')\n",
    "plt.ylabel('tsd')\n",
    "plt.xticks(rotation=45)\n",
    "plt.show()"
   ]
  },
  {
   "cell_type": "code",
   "execution_count": null,
   "metadata": {},
   "outputs": [],
   "source": [
    "plt.figure(figsize=(12, 6))\n",
    "sns.lineplot(data=df_cleaned, x='settlement_date', y='england_wales_demand')\n",
    "plt.title('England Wales Demand over Time')\n",
    "plt.xlabel('Settlement Date')\n",
    "plt.ylabel('England Wales Demand')\n",
    "plt.xticks(rotation=45)\n",
    "plt.show()"
   ]
  },
  {
   "cell_type": "code",
   "execution_count": null,
   "metadata": {},
   "outputs": [],
   "source": [
    "# Extract the year from settlement_date and group by year\n",
    "df_cleaned['year'] = df_cleaned['settlement_date'].dt.year\n",
    "yearly_data = df_cleaned.groupby('year')['embedded_wind_generation'].sum().reset_index()\n",
    "\n",
    "# Plot the year-wise bar plot\n",
    "plt.figure(figsize=(12, 6))\n",
    "sns.barplot(data=yearly_data, x='year', y='embedded_wind_generation', palette='viridis')\n",
    "plt.title('Yearly Embedded Wind Generation')\n",
    "plt.xlabel('Year')\n",
    "plt.ylabel('Total Embedded Wind Generation')\n",
    "plt.xticks(rotation=45)\n",
    "plt.show()"
   ]
  },
  {
   "cell_type": "code",
   "execution_count": null,
   "metadata": {},
   "outputs": [],
   "source": [
    "# Extract the year from settlement_date and group by year\n",
    "df_cleaned['year'] = df_cleaned['settlement_date'].dt.year\n",
    "yearly_data = df_cleaned.groupby('year')['embedded_solar_generation'].sum().reset_index()\n",
    "\n",
    "# Plot the year-wise bar plot\n",
    "plt.figure(figsize=(12, 6))\n",
    "sns.barplot(data=yearly_data, x='year', y='embedded_solar_generation', palette='coolwarm')\n",
    "plt.title('Yearly Embedded Solar Generation')\n",
    "plt.xlabel('Year')\n",
    "plt.ylabel('Total Embedded Solar Generation')\n",
    "plt.xticks(rotation=45)\n",
    "plt.show()"
   ]
  },
  {
   "cell_type": "code",
   "execution_count": null,
   "metadata": {},
   "outputs": [],
   "source": [
    "# Ensure settlement_date is in datetime format\n",
    "df_cleaned['settlement_date'] = pd.to_datetime(\n",
    "    df_cleaned['settlement_date'], format='%d-%m-%Y', errors='coerce'\n",
    ")\n",
    "\n",
    "# Attributes to plot\n",
    "attributes = ['non_bm_stor', 'pump_storage_pumping']\n",
    "\n",
    "# Create bar plots for each attribute\n",
    "plt.figure(figsize=(15, 15))  # Adjust figure size for better layout\n",
    "for i, col in enumerate(attributes, start=1):\n",
    "    plt.subplot(len(attributes), 1, i)\n",
    "    # Group by year for bar plot\n",
    "    df_cleaned['year'] = df_cleaned['settlement_date'].dt.year\n",
    "    yearly_data = df_cleaned.groupby('year')[col].sum().reset_index()\n",
    "    sns.barplot(data=yearly_data, x='year', y=col, palette='viridis')\n",
    "    plt.title(f'Yearly {col}')\n",
    "    plt.xlabel('Year')\n",
    "    plt.ylabel(col)\n",
    "    plt.xticks(rotation=45)\n",
    "\n",
    "plt.tight_layout()  # Adjust layout to avoid overlapping\n",
    "plt.show()"
   ]
  },
  {
   "cell_type": "code",
   "execution_count": null,
   "metadata": {},
   "outputs": [],
   "source": [
    "# Ensure settlement_date is in datetime format\n",
    "df_cleaned['settlement_date'] = pd.to_datetime(\n",
    "    df_cleaned['settlement_date'], format='%d-%m-%Y', errors='coerce'\n",
    ")\n",
    "\n",
    "\n",
    "# List of flow attributes to plot\n",
    "flow_attributes = ['ifa_flow', 'ifa2_flow', 'britned_flow', 'moyle_flow',\n",
    "                   'east_west_flow', 'nemo_flow', 'nsl_flow', 'eleclink_flow',\n",
    "                   'scottish_transfer', 'viking_flow']\n",
    "titles = ['IFA Flow', 'IFA2 Flow', 'BritNed Flow', 'Moyle Flow',\n",
    "          'East West Flow', 'Nemo Flow', 'NSL Flow', 'ElecLink Flow',\n",
    "          'Scottish Transfer', 'Viking Flow']\n",
    "colors = ['blue', 'orange', 'purple', 'green', 'red', 'cyan', 'magenta', 'yellow', 'black', 'brown']\n",
    "\n",
    "# Create individual subplots for scatter plots\n",
    "fig, axes = plt.subplots(len(flow_attributes), 1, figsize=(12, 20), sharex=True)\n",
    "\n",
    "for i, attribute in enumerate(flow_attributes):\n",
    "    axes[i].scatter(df.index, df[attribute], color=colors[i], s=10, alpha=0.6)\n",
    "    axes[i].set_title(titles[i])\n",
    "    axes[i].set_ylabel(attribute)\n",
    "    axes[i].grid(True)\n",
    "\n",
    "# Set x-axis label on the last subplot\n",
    "axes[-1].set_xlabel(\"Date\")\n",
    "\n",
    "# Rotate x-axis labels for better readability\n",
    "plt.xticks(rotation=45)\n",
    "\n",
    "# Adjust layout for spacing\n",
    "plt.tight_layout()\n",
    "plt.show()\n",
    "\n",
    "# Reset the index, avoiding duplicates if already exists as column\n",
    "df.reset_index(drop=True, inplace=True)\n"
   ]
  },
  {
   "cell_type": "code",
   "execution_count": null,
   "metadata": {},
   "outputs": [],
   "source": [
    "\n",
    "\n",
    "# Convert 'settlement_date' to datetime format specifying day first\n",
    "df_cleaned['settlement_date'] = pd.to_datetime(df_cleaned['settlement_date'], format='%Y-%m-%d')\n",
    "\n",
    "# Extract the year from 'settlement_date'\n",
    "df_cleaned['year'] = df_cleaned['settlement_date'].dt.year\n",
    "\n",
    "# Find unique years to place vertical lines\n",
    "unique_years = df_cleaned['year'].unique()\n",
    "\n",
    "# Calculate the mean, minimum, and maximum of 'tsd'\n",
    "mean_tsd = df_cleaned['tsd'].mean()\n",
    "min_tsd = df_cleaned['tsd'].min()\n",
    "max_tsd = df_cleaned['tsd'].max()\n",
    "\n",
    "# Create the scatter plot\n",
    "plt.figure(figsize=(25, 10))\n",
    "plt.scatter(df_cleaned['settlement_date'], df_cleaned['tsd'], alpha=0.5, label='TSD Values')\n",
    "\n",
    "# Add a horizontal line for the mean\n",
    "plt.axhline(mean_tsd, color='red', linestyle='--', linewidth=1, label=f'Mean TSD: {mean_tsd:.2f}')\n",
    "\n",
    "# Add a horizontal line for the minimum value\n",
    "plt.axhline(min_tsd, color='blue', linestyle='--', linewidth=1, label=f'Min TSD: {min_tsd:.2f}')\n",
    "\n",
    "# Add a horizontal line for the maximum value\n",
    "plt.axhline(max_tsd, color='green', linestyle='--', linewidth=1, label=f'Max TSD: {max_tsd:.2f}')\n",
    "\n",
    "# Add vertical lines for each year\n",
    "for year in unique_years:\n",
    "    # Get the first index of each year to draw the line\n",
    "    start_of_year = df_cleaned[df_cleaned['year'] == year]['settlement_date'].min()\n",
    "    plt.axvline(x=start_of_year, color='gray', linestyle='--', linewidth=1)\n",
    "\n",
    "plt.title('Scatter Plot of TSD with Mean, Min, and Max Lines and Year Separators')\n",
    "plt.xlabel('Settlement Date')\n",
    "plt.ylabel('TSD (Total System Demand)')\n",
    "plt.legend()\n",
    "plt.show()\n"
   ]
  },
  {
   "cell_type": "code",
   "execution_count": null,
   "metadata": {},
   "outputs": [],
   "source": [
    "# Find rows where 'tsd' is zero\n",
    "tsd_zero_rows = df_cleaned[df_cleaned['tsd'] == 0][['settlement_date', 'settlement_period', 'tsd']]\n",
    "\n",
    "# Print the number of rows where 'tsd' is zero\n",
    "print(\"Number of rows with 'tsd' value of zero:\", tsd_zero_rows.shape[0])\n",
    "\n",
    "# Display the rows with columns 'settlement_date', 'settlement_period', and 'tsd' where 'tsd' is zero\n",
    "print(\"Rows with 'tsd' value of zero:\\n\", tsd_zero_rows)"
   ]
  },
  {
   "cell_type": "code",
   "execution_count": null,
   "metadata": {},
   "outputs": [],
   "source": [
    "# Ensure 'settlement_date' is a datetime format\n",
    "df_cleaned['settlement_date'] = pd.to_datetime(df_cleaned['settlement_date'])\n",
    "\n",
    "# Sort DataFrame by 'settlement_date' and 'settlement_period' for consistency in rolling calculation\n",
    "df_cleaned.sort_values(by=['settlement_date', 'settlement_period'], inplace=True)\n",
    "\n",
    "# Define a function to apply the rolling mean\n",
    "def apply_rolling_mean(group):\n",
    "    # Use a rolling window of 21 days (10 days before, the current day, and 10 days after), centered\n",
    "    return group.rolling(window=100, center=True, min_periods=1).mean()\n",
    "\n",
    "# Calculate the rolling mean for 'tsd' across the grouped data by 'settlement_period'\n",
    "df_cleaned['rolling_tsd'] = df_cleaned.groupby('settlement_period')['tsd'].transform(apply_rolling_mean)\n",
    "\n",
    "# Replace zeros in 'tsd' with the rolling average, only where 'tsd' is zero\n",
    "df_cleaned.loc[df_cleaned['tsd'] == 0, 'tsd'] = df_cleaned.loc[df_cleaned['tsd'] == 0, 'rolling_tsd']\n",
    "\n",
    "# Optionally, you can remove the 'rolling_tsd' helper column if it's no longer needed\n",
    "df_cleaned.drop(columns=['rolling_tsd'], inplace=True)\n",
    "\n",
    "# Print to verify changes\n",
    "print(df_cleaned[['settlement_date', 'settlement_period', 'tsd']])\n"
   ]
  },
  {
   "cell_type": "code",
   "execution_count": null,
   "metadata": {},
   "outputs": [],
   "source": [
    "# Find rows where 'tsd' is zero\n",
    "tsd_zero_rows_again = df_cleaned[df_cleaned['tsd'] == 0]\n",
    "\n",
    "# Print the number of rows where 'tsd' is zero\n",
    "print(\"Number of rows with 'tsd' value of zero:\", tsd_zero_rows_again.shape[0])\n",
    "\n",
    "# Display the rows where 'tsd' is zero (if any)\n",
    "if tsd_zero_rows_again.shape[0] > 0:\n",
    "    print(\"Rows with 'tsd' value of zero:\\n\", tsd_zero_rows_again)\n",
    "else:\n",
    "    print(\"No zero values found in 'tsd' column.\")"
   ]
  },
  {
   "cell_type": "code",
   "execution_count": null,
   "metadata": {},
   "outputs": [],
   "source": [
    "\n",
    "# Calculate the mean, minimum, and maximum of 'tsd'\n",
    "mean_tsd = df_cleaned['tsd'].mean()\n",
    "min_tsd = df_cleaned['tsd'].min()\n",
    "max_tsd = df_cleaned['tsd'].max()\n",
    "\n",
    "# Create the scatter plot\n",
    "plt.figure(figsize=(25, 10))\n",
    "plt.scatter(df_cleaned['settlement_date'], df_cleaned['tsd'], alpha=0.5, label='TSD Values')\n",
    "\n",
    "# Add a horizontal line for the mean\n",
    "plt.axhline(mean_tsd, color='red', linestyle='--', linewidth=1, label=f'Mean TSD: {mean_tsd:.2f}')\n",
    "\n",
    "# Add a horizontal line for the minimum value\n",
    "plt.axhline(min_tsd, color='blue', linestyle='--', linewidth=1, label=f'Min TSD: {min_tsd:.2f}')\n",
    "\n",
    "# Add a horizontal line for the maximum value\n",
    "plt.axhline(max_tsd, color='green', linestyle='--', linewidth=1, label=f'Max TSD: {max_tsd:.2f}')\n",
    "\n",
    "# Add vertical lines for each year\n",
    "unique_years = df_cleaned['settlement_date'].dt.year.unique()\n",
    "for year in unique_years:\n",
    "    start_of_year = pd.Timestamp(year=year, month=1, day=1)\n",
    "    plt.axvline(x=start_of_year, color='gray', linestyle='--', linewidth=1)\n",
    "\n",
    "plt.title('Scatter Plot of TSD with Mean, Min, and Max Lines and Year Separators')\n",
    "plt.xlabel('Settlement Date')\n",
    "plt.ylabel('TSD (Total System Demand)')\n",
    "plt.legend()\n",
    "plt.show()\n"
   ]
  }
 ],
 "metadata": {
  "language_info": {
   "name": "python"
  }
 },
 "nbformat": 4,
 "nbformat_minor": 2
}
