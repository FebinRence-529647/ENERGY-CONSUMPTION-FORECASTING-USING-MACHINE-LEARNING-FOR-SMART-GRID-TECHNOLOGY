{
 "cells": [
  {
   "cell_type": "code",
   "execution_count": null,
   "metadata": {},
   "outputs": [],
   "source": [
    "import pandas as pd\n",
    "import matplotlib.pyplot as plt\n",
    "import seaborn as sns\n",
    "# Load the dataset into a DataFrame\n",
    "df = pd.read_csv('/content/historic_demand_2009_2024.csv')\n",
    "\n",
    "# Display the columns and the first few rows of the DataFrame\n",
    "df.head()"
   ]
  },
  {
   "cell_type": "code",
   "execution_count": null,
   "metadata": {},
   "outputs": [],
   "source": [
    "df.info()"
   ]
  },
  {
   "cell_type": "code",
   "execution_count": null,
   "metadata": {},
   "outputs": [],
   "source": [
    "df.describe()"
   ]
  },
  {
   "cell_type": "code",
   "execution_count": null,
   "metadata": {},
   "outputs": [],
   "source": [
    "# Display the shape of the data (rows, columns)\n",
    "print(\"Shape:\", df.shape)"
   ]
  },
  {
   "cell_type": "code",
   "execution_count": null,
   "metadata": {},
   "outputs": [],
   "source": [
    "# Display the total number of elements in the data\n",
    "print(\"Size:\", df.size)"
   ]
  },
  {
   "cell_type": "code",
   "execution_count": null,
   "metadata": {},
   "outputs": [],
   "source": [
    "# Identifying the types of attributes in the dataset\n",
    "attribute_types = df.dtypes\n",
    "attribute_types"
   ]
  },
  {
   "cell_type": "code",
   "execution_count": null,
   "metadata": {},
   "outputs": [],
   "source": [
    "# Identify numerical attributes\n",
    "numerical_attributes = df.select_dtypes(include=['int64', 'float64']).columns\n",
    "print(\"Numerical Attributes:\\n\", numerical_attributes)\n",
    "\n",
    "# Identify categorical attributes\n",
    "categorical_attributes = df.select_dtypes(include=['object']).columns\n",
    "print(\"Categorical Attributes:\\n\", categorical_attributes)\n",
    "\n",
    "# Identify time attributes by checking for datetime data type after conversion\n",
    "time_attributes = df.select_dtypes(include=['datetime']).columns\n",
    "print(\"Time Attributes:\\n\", time_attributes)"
   ]
  }
 ],
 "metadata": {
  "language_info": {
   "name": "python"
  }
 },
 "nbformat": 4,
 "nbformat_minor": 2
}
